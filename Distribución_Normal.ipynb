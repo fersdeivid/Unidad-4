{
  "nbformat": 4,
  "nbformat_minor": 0,
  "metadata": {
    "colab": {
      "provenance": [],
      "authorship_tag": "ABX9TyNpotU8eLPZKsxazteBE8ad",
      "include_colab_link": true
    },
    "kernelspec": {
      "name": "python3",
      "display_name": "Python 3"
    },
    "language_info": {
      "name": "python"
    }
  },
  "cells": [
    {
      "cell_type": "markdown",
      "metadata": {
        "id": "view-in-github",
        "colab_type": "text"
      },
      "source": [
        "<a href=\"https://colab.research.google.com/github/fersdeivid/Unidad-4/blob/main/Distribuci%C3%B3n_Normal.ipynb\" target=\"_parent\"><img src=\"https://colab.research.google.com/assets/colab-badge.svg\" alt=\"Open In Colab\"/></a>"
      ]
    },
    {
      "cell_type": "code",
      "execution_count": 1,
      "metadata": {
        "colab": {
          "base_uri": "https://localhost:8080/"
        },
        "id": "bFB-1sdj6pnF",
        "outputId": "62d561dc-4693-4c7f-fa43-5237d9da501c"
      },
      "outputs": [
        {
          "output_type": "stream",
          "name": "stdout",
          "text": [
            "Probabilidad de que un estudiante pese entre 68 y 72 kg: 0.383\n",
            "Número estimado de estudiantes con ese peso: 191\n"
          ]
        }
      ],
      "source": [
        "from scipy.stats import norm\n",
        "\n",
        "# Datos del problema\n",
        "media = 70  # Media en kg\n",
        "desviacion_estandar = 4  # Desviación estándar en kg\n",
        "n_estudiantes = 500  # Número total de estudiantes\n",
        "\n",
        "# Calcular la probabilidad de que el peso esté entre 68 y 72 kg\n",
        "prob_entre_68_y_72 = norm.cdf(72, loc=media, scale=desviacion_estandar) - norm.cdf(68, loc=media, scale=desviacion_estandar)\n",
        "\n",
        "# Calcular cuántos estudiantes corresponden a esa probabilidad\n",
        "cantidad_estudiantes = prob_entre_68_y_72 * n_estudiantes\n",
        "\n",
        "# Mostrar resultados\n",
        "print(f\"Probabilidad de que un estudiante pese entre 68 y 72 kg: {prob_entre_68_y_72:.3f}\")\n",
        "print(f\"Número estimado de estudiantes con ese peso: {cantidad_estudiantes:.0f}\")\n"
      ]
    }
  ]
}