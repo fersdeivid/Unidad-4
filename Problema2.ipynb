{
  "nbformat": 4,
  "nbformat_minor": 0,
  "metadata": {
    "colab": {
      "provenance": [],
      "authorship_tag": "ABX9TyONubGBZZTTEUHM45xYhCld",
      "include_colab_link": true
    },
    "kernelspec": {
      "name": "python3",
      "display_name": "Python 3"
    },
    "language_info": {
      "name": "python"
    }
  },
  "cells": [
    {
      "cell_type": "markdown",
      "metadata": {
        "id": "view-in-github",
        "colab_type": "text"
      },
      "source": [
        "<a href=\"https://colab.research.google.com/github/fersdeivid/Unidad-4/blob/main/Problema2.ipynb\" target=\"_parent\"><img src=\"https://colab.research.google.com/assets/colab-badge.svg\" alt=\"Open In Colab\"/></a>"
      ]
    },
    {
      "cell_type": "code",
      "execution_count": 1,
      "metadata": {
        "colab": {
          "base_uri": "https://localhost:8080/"
        },
        "id": "ZL9GQmM4B0wR",
        "outputId": "03eeefc4-fdc7-41e3-edca-90d97b95d246"
      },
      "outputs": [
        {
          "output_type": "stream",
          "name": "stdout",
          "text": [
            "a) Probabilidad de que ninguno sea defectuoso (X=0): 0.3677\n",
            "b) Probabilidad de que tres sean defectuosos (X=3): 0.0613\n",
            "c) Probabilidad de que cuatro sean defectuosos (X=4): 0.0153\n"
          ]
        }
      ],
      "source": [
        "from scipy.stats import binom\n",
        "\n",
        "# Parámetros\n",
        "n = 1000        # Total de motores\n",
        "p = 0.001       # Probabilidad de que un motor sea defectuoso\n",
        "\n",
        "# Calcular probabilidades\n",
        "prob_0 = binom.pmf(0, n, p)\n",
        "prob_3 = binom.pmf(3, n, p)\n",
        "prob_4 = binom.pmf(4, n, p)\n",
        "\n",
        "# Mostrar resultados\n",
        "print(f\"a) Probabilidad de que ninguno sea defectuoso (X=0): {prob_0:.4f}\")\n",
        "print(f\"b) Probabilidad de que tres sean defectuosos (X=3): {prob_3:.4f}\")\n",
        "print(f\"c) Probabilidad de que cuatro sean defectuosos (X=4): {prob_4:.4f}\")\n"
      ]
    }
  ]
}