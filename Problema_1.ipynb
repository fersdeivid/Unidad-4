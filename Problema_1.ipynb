{
  "nbformat": 4,
  "nbformat_minor": 0,
  "metadata": {
    "colab": {
      "provenance": [],
      "authorship_tag": "ABX9TyMswGqwv93eDGplzzslasAu",
      "include_colab_link": true
    },
    "kernelspec": {
      "name": "python3",
      "display_name": "Python 3"
    },
    "language_info": {
      "name": "python"
    }
  },
  "cells": [
    {
      "cell_type": "markdown",
      "metadata": {
        "id": "view-in-github",
        "colab_type": "text"
      },
      "source": [
        "<a href=\"https://colab.research.google.com/github/fersdeivid/Unidad-4/blob/main/Problema_1.ipynb\" target=\"_parent\"><img src=\"https://colab.research.google.com/assets/colab-badge.svg\" alt=\"Open In Colab\"/></a>"
      ]
    },
    {
      "cell_type": "code",
      "execution_count": 1,
      "metadata": {
        "colab": {
          "base_uri": "https://localhost:8080/"
        },
        "id": "MCegAJUdBglS",
        "outputId": "397392f7-9571-4c25-87e2-31e8a2bfd9c3"
      },
      "outputs": [
        {
          "output_type": "stream",
          "name": "stdout",
          "text": [
            "a) P(X = 2): 0.0842\n",
            "b) P(X > 10): 0.0137\n",
            "No es muy probable que x exceda de 10 (menor al 5%).\n"
          ]
        }
      ],
      "source": [
        "from scipy.stats import poisson\n",
        "\n",
        "# Parámetro de la distribución\n",
        "media = 5  # λ\n",
        "\n",
        "# Inciso a: P(X = 2)\n",
        "prob_x_2 = poisson.pmf(2, mu=media)\n",
        "\n",
        "# Inciso b: P(X > 10) = 1 - P(X <= 10)\n",
        "prob_x_mayor_10 = 1 - poisson.cdf(10, mu=media)\n",
        "\n",
        "# Mostrar resultados\n",
        "print(f\"a) P(X = 2): {prob_x_2:.4f}\")\n",
        "print(f\"b) P(X > 10): {prob_x_mayor_10:.4f}\")\n",
        "if prob_x_mayor_10 > 0.05:\n",
        "    print(\"Sí es probable que x exceda de 10 (mayor al 5%).\")\n",
        "else:\n",
        "    print(\"No es muy probable que x exceda de 10 (menor al 5%).\")\n"
      ]
    }
  ]
}